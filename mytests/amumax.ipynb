{
 "cells": [
  {
   "cell_type": "code",
   "execution_count": 1,
   "metadata": {},
   "outputs": [],
   "source": [
    "%matplotlib widget\n",
    "%load_ext autoreload\n",
    "%autoreload 2\n",
    "from adl import adl,parms\n",
    "from llyr import op\n",
    "from matplotlib import pyplot as plt\n",
    "import matplotlib as mpl\n",
    "import numpy as np\n",
    "import cmocean\n",
    "from glob import glob\n",
    "from tqdm.notebook import tqdm\n",
    "import gc\n",
    "plt.style.use('workfolder')"
   ]
  },
  {
   "cell_type": "code",
   "execution_count": 94,
   "metadata": {},
   "outputs": [
    {
     "name": "stdout",
     "output_type": "stream",
     "text": [
      "/\n",
      " └── table\n",
      "     └── m (3, 11) float64\n",
      "[[ 0.00000000e+00 -3.38332352e-08  3.38332352e-08  0.00000000e+00\n",
      "   3.38332352e-08 -5.07498528e-08  5.07498528e-08  1.69166176e-08\n",
      "   0.00000000e+00  1.69166176e-08 -6.76664703e-08]\n",
      " [ 1.05728860e-09  0.00000000e+00  1.05728860e-08  4.22915440e-09\n",
      "   3.80623896e-08  6.49571683e-08  4.75779870e-08  4.86352756e-08\n",
      "   6.34373159e-08 -5.92081616e-08  5.07498528e-08]\n",
      " [ 4.22502225e-03  3.10297287e-02  4.90960250e-02 -3.82801572e-02\n",
      "  -3.71560437e-02 -1.57856195e-04  2.56693220e-02  4.51267860e-02\n",
      "  -3.21978000e-02 -5.35358082e-02  1.73920337e-02]]\n"
     ]
    },
    {
     "data": {
      "application/vnd.jupyter.widget-view+json": {
       "model_id": "09fc381de40e4731b323fabdf4f30e41",
       "version_major": 2,
       "version_minor": 0
      },
      "text/plain": [
       "Canvas(toolbar=Toolbar(toolitems=[('Home', 'Reset original view', 'home', 'home'), ('Back', 'Back to previous …"
      ]
     },
     "metadata": {},
     "output_type": "display_data"
    },
    {
     "data": {
      "text/plain": [
       "[]"
      ]
     },
     "execution_count": 94,
     "metadata": {},
     "output_type": "execute_result"
    }
   ],
   "source": [
    "m = op(\"test1.zarr\")\n",
    "m.p\n",
    "print(m[\"table/m\"][:])\n",
    "# print(m[\"E_total\"][:])\n",
    "plt.figure()\n",
    "plt.plot(m['table/m'][2])\n",
    "plt.plot()"
   ]
  },
  {
   "cell_type": "code",
   "execution_count": null,
   "metadata": {},
   "outputs": [],
   "source": []
  }
 ],
 "metadata": {
  "interpreter": {
   "hash": "0a0132dff237c21ee6e97555432a1c9a29fff9239a0cb92f96e3c7b72fdb42e7"
  },
  "kernelspec": {
   "display_name": "Python 3.9.5 64-bit ('env': venv)",
   "language": "python",
   "name": "python3"
  },
  "language_info": {
   "codemirror_mode": {
    "name": "ipython",
    "version": 3
   },
   "file_extension": ".py",
   "mimetype": "text/x-python",
   "name": "python",
   "nbconvert_exporter": "python",
   "pygments_lexer": "ipython3",
   "version": "3.9.5"
  },
  "orig_nbformat": 4
 },
 "nbformat": 4,
 "nbformat_minor": 2
}
