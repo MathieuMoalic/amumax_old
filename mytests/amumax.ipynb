{
 "cells": [
  {
   "cell_type": "code",
   "execution_count": 1,
   "metadata": {},
   "outputs": [],
   "source": [
    "%matplotlib widget\n",
    "%load_ext autoreload\n",
    "%autoreload 2\n",
    "from adl import adl,parms\n",
    "from llyr import op\n",
    "from matplotlib import pyplot as plt\n",
    "import matplotlib as mpl\n",
    "import numpy as np\n",
    "import cmocean\n",
    "from glob import glob\n",
    "from tqdm.notebook import tqdm\n",
    "import gc\n",
    "plt.style.use('workfolder')"
   ]
  },
  {
   "cell_type": "code",
   "execution_count": 47,
   "metadata": {},
   "outputs": [
    {
     "name": "stdout",
     "output_type": "stream",
     "text": [
      "/\n",
      " └── m (3, 2) float64\n"
     ]
    }
   ],
   "source": [
    "# !cp .zarray test1.zarr/m/.zarray\n",
    "# !rm test1.zarr/m/1\n",
    "# !rm test1.zarr/m/2\n",
    "m = op(\"test1.zarr\")\n",
    "m.p"
   ]
  },
  {
   "cell_type": "code",
   "execution_count": 48,
   "metadata": {},
   "outputs": [
    {
     "data": {
      "text/plain": [
       "array([[ 0.57735032, -0.57735025],\n",
       "       [ 0.57735032, -0.57735025],\n",
       "       [ 0.57735032, -0.57735025]])"
      ]
     },
     "execution_count": 48,
     "metadata": {},
     "output_type": "execute_result"
    }
   ],
   "source": [
    "arr = m['m'][:]\n",
    "arr"
   ]
  }
 ],
 "metadata": {
  "interpreter": {
   "hash": "0a0132dff237c21ee6e97555432a1c9a29fff9239a0cb92f96e3c7b72fdb42e7"
  },
  "kernelspec": {
   "display_name": "Python 3.9.5 64-bit ('env': venv)",
   "language": "python",
   "name": "python3"
  },
  "language_info": {
   "codemirror_mode": {
    "name": "ipython",
    "version": 3
   },
   "file_extension": ".py",
   "mimetype": "text/x-python",
   "name": "python",
   "nbconvert_exporter": "python",
   "pygments_lexer": "ipython3",
   "version": "3.9.5"
  },
  "orig_nbformat": 4
 },
 "nbformat": 4,
 "nbformat_minor": 2
}
