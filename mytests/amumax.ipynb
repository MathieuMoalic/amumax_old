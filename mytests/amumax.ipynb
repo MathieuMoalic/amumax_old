{
 "cells": [
  {
   "cell_type": "code",
   "execution_count": 1,
   "metadata": {},
   "outputs": [],
   "source": [
    "%matplotlib widget\n",
    "%load_ext autoreload\n",
    "%autoreload 2\n",
    "from adl import adl,parms\n",
    "from llyr import op\n",
    "from matplotlib import pyplot as plt\n",
    "import matplotlib as mpl\n",
    "import numpy as np\n",
    "import cmocean\n",
    "from glob import glob\n",
    "from tqdm.notebook import tqdm\n",
    "import gc\n",
    "plt.style.use('workfolder')"
   ]
  },
  {
   "cell_type": "code",
   "execution_count": 79,
   "metadata": {},
   "outputs": [
    {
     "name": "stdout",
     "output_type": "stream",
     "text": [
      "/\n",
      " └── table\n",
      "     └── m (3, 21) float64\n",
      "[[ 1.69166176e-08  0.00000000e+00  1.69166176e-08  0.00000000e+00\n",
      "   0.00000000e+00  0.00000000e+00  1.69166176e-08  0.00000000e+00\n",
      "   2.53749264e-08 -8.45830879e-08 -6.76664703e-08 -6.76664703e-08\n",
      "  -1.52249558e-07 -2.53749264e-08 -2.02999411e-07  3.38332352e-08\n",
      "   3.38332352e-08 -1.86082793e-07  2.02999411e-07 -3.38332352e-08\n",
      "   1.77624485e-07]\n",
      " [ 2.11457720e-09  2.11457720e-09  0.00000000e+00  0.00000000e+00\n",
      "  -6.34373159e-09  9.19841081e-08  5.60362958e-08  4.01769668e-08\n",
      "   1.69166176e-07 -8.24685107e-08  1.09958014e-07  1.07843437e-07\n",
      "  -3.09256915e-07 -1.05728860e-07 -4.59920541e-07 -5.07498528e-08\n",
      "  -9.93851283e-08 -7.40102019e-08  2.45290955e-07  1.22116833e-07\n",
      "   1.98770257e-07]\n",
      " [ 4.22502172e-03  3.07327660e-02  4.90580599e-02 -3.83380205e-02\n",
      "  -3.71750411e-02 -1.44319943e-04  2.58780329e-02  4.51221212e-02\n",
      "  -3.22007160e-02 -5.36203575e-02  1.73920401e-02  1.73920401e-02\n",
      "   4.27061533e-02 -2.02632891e-02 -5.94914853e-02  1.49030506e-02\n",
      "   3.30894919e-02  2.67253525e-02 -1.17580156e-02 -6.64474969e-02\n",
      "   1.69934772e-02]]\n"
     ]
    }
   ],
   "source": [
    "m = op(\"test1.zarr\")\n",
    "m.p\n",
    "print(m[\"table/m\"][:])\n",
    "# print(m[\"E_total\"][:])"
   ]
  }
 ],
 "metadata": {
  "interpreter": {
   "hash": "0a0132dff237c21ee6e97555432a1c9a29fff9239a0cb92f96e3c7b72fdb42e7"
  },
  "kernelspec": {
   "display_name": "Python 3.9.5 64-bit ('env': venv)",
   "language": "python",
   "name": "python3"
  },
  "language_info": {
   "codemirror_mode": {
    "name": "ipython",
    "version": 3
   },
   "file_extension": ".py",
   "mimetype": "text/x-python",
   "name": "python",
   "nbconvert_exporter": "python",
   "pygments_lexer": "ipython3",
   "version": "3.9.5"
  },
  "orig_nbformat": 4
 },
 "nbformat": 4,
 "nbformat_minor": 2
}
